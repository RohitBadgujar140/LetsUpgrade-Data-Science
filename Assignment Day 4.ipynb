{
 "cells": [
  {
   "cell_type": "markdown",
   "metadata": {},
   "source": [
    "# Question 1"
   ]
  },
  {
   "cell_type": "code",
   "execution_count": 2,
   "metadata": {},
   "outputs": [
    {
     "name": "stdout",
     "output_type": "stream",
     "text": [
      "1.0.1\n"
     ]
    }
   ],
   "source": [
    "import pandas as pd\n",
    "print(pd.__version__)"
   ]
  },
  {
   "cell_type": "markdown",
   "metadata": {},
   "source": [
    "# Question 2"
   ]
  },
  {
   "cell_type": "code",
   "execution_count": 6,
   "metadata": {},
   "outputs": [
    {
     "name": "stdout",
     "output_type": "stream",
     "text": [
      "Normal Array : ['a' 'b' 'c' 'd']\n",
      "Series Array :\n",
      " 0    a\n",
      "1    b\n",
      "2    c\n",
      "3    d\n",
      "dtype: object\n"
     ]
    }
   ],
   "source": [
    "import numpy as np\n",
    "import pandas as pd\n",
    "\n",
    "arr = np.array(['a','b','c','d'])\n",
    "print(\"Normal Array :\",arr)\n",
    "\n",
    "newarr = pd.Series(arr)\n",
    "print(\"Series Array :\\n\",newarr)"
   ]
  },
  {
   "cell_type": "markdown",
   "metadata": {},
   "source": [
    "# Question 3"
   ]
  },
  {
   "cell_type": "code",
   "execution_count": 7,
   "metadata": {},
   "outputs": [
    {
     "data": {
      "text/html": [
       "<div>\n",
       "<style scoped>\n",
       "    .dataframe tbody tr th:only-of-type {\n",
       "        vertical-align: middle;\n",
       "    }\n",
       "\n",
       "    .dataframe tbody tr th {\n",
       "        vertical-align: top;\n",
       "    }\n",
       "\n",
       "    .dataframe thead th {\n",
       "        text-align: right;\n",
       "    }\n",
       "</style>\n",
       "<table border=\"1\" class=\"dataframe\">\n",
       "  <thead>\n",
       "    <tr style=\"text-align: right;\">\n",
       "      <th></th>\n",
       "      <th>Roll Number</th>\n",
       "      <th>Name</th>\n",
       "      <th>Marks In Percentage</th>\n",
       "      <th>Grade</th>\n",
       "      <th>Subject</th>\n",
       "      <th>index</th>\n",
       "    </tr>\n",
       "  </thead>\n",
       "  <tbody>\n",
       "    <tr>\n",
       "      <th>0</th>\n",
       "      <td>20CSE29</td>\n",
       "      <td>Amelia</td>\n",
       "      <td>97</td>\n",
       "      <td>A</td>\n",
       "      <td>Physics</td>\n",
       "      <td>0</td>\n",
       "    </tr>\n",
       "    <tr>\n",
       "      <th>1</th>\n",
       "      <td>20CSE49</td>\n",
       "      <td>Sam</td>\n",
       "      <td>90</td>\n",
       "      <td>A</td>\n",
       "      <td>Physics</td>\n",
       "      <td>1</td>\n",
       "    </tr>\n",
       "    <tr>\n",
       "      <th>2</th>\n",
       "      <td>20CSE36</td>\n",
       "      <td>Dean</td>\n",
       "      <td>70</td>\n",
       "      <td>C</td>\n",
       "      <td>Physics</td>\n",
       "      <td>2</td>\n",
       "    </tr>\n",
       "    <tr>\n",
       "      <th>3</th>\n",
       "      <td>20CSE44</td>\n",
       "      <td>Jessica</td>\n",
       "      <td>82</td>\n",
       "      <td>B</td>\n",
       "      <td>Physics</td>\n",
       "      <td>3</td>\n",
       "    </tr>\n",
       "  </tbody>\n",
       "</table>\n",
       "</div>"
      ],
      "text/plain": [
       "  Roll Number     Name  Marks In Percentage Grade  Subject  index\n",
       "0     20CSE29   Amelia                   97     A  Physics      0\n",
       "1     20CSE49      Sam                   90     A  Physics      1\n",
       "2     20CSE36     Dean                   70     C  Physics      2\n",
       "3     20CSE44  Jessica                   82     B  Physics      3"
      ]
     },
     "execution_count": 7,
     "metadata": {},
     "output_type": "execute_result"
    }
   ],
   "source": [
    "import pandas as pd \n",
    "  \n",
    "  \n",
    "df = pd.DataFrame({'Roll Number': ['20CSE29', '20CSE49', '20CSE36', '20CSE44'], \n",
    "                   'Name': ['Amelia', 'Sam', 'Dean', 'Jessica'], \n",
    "                   'Marks In Percentage': [97, 90, 70, 82], \n",
    "                   'Grade': ['A', 'A', 'C', 'B'], \n",
    "                   'Subject': ['Physics', 'Physics', 'Physics', 'Physics']}) \n",
    "  \n",
    "df['index'] = df.index \n",
    "df"
   ]
  },
  {
   "cell_type": "markdown",
   "metadata": {},
   "source": [
    "# Question 4"
   ]
  },
  {
   "cell_type": "code",
   "execution_count": 11,
   "metadata": {},
   "outputs": [
    {
     "name": "stdout",
     "output_type": "stream",
     "text": [
      "   total_bill   tip     sex smoker  day    time  size\n",
      "0       16.99  1.01  Female     No  Sun  Dinner     2\n",
      "1       10.34  1.66    Male     No  Sun  Dinner     3\n",
      "2       21.01  3.50    Male     No  Sun  Dinner     3\n",
      "3       23.68  3.31    Male     No  Sun  Dinner     2\n",
      "4       24.59  3.61  Female     No  Sun  Dinner     4\n"
     ]
    }
   ],
   "source": [
    "import pandas as pd\n",
    "from matplotlib import pyplot as plt\n",
    "import seaborn as sb\n",
    "\n",
    "\n",
    "df = sb.load_dataset('tips')\n",
    "print(df.head())"
   ]
  },
  {
   "cell_type": "markdown",
   "metadata": {},
   "source": [
    "# Question 5"
   ]
  },
  {
   "cell_type": "code",
   "execution_count": 22,
   "metadata": {},
   "outputs": [
    {
     "name": "stdout",
     "output_type": "stream",
     "text": [
      "       Name    Team Position  Number  Age Height  Weight   College  Salary\n",
      "ind1  Geeks  Boston       PG       3   33    6-2      89       MIT   99999\n",
      "ind2  Peter  Boston       PG       4   25    6-4      79       MIT   99994\n",
      "ind3  James  Boston       UG       7   34    5-9     113       MIT   89999\n",
      "ind4   Jack   Chele       PG      11   35    6-1      78  Stanford   78889\n",
      "ind5   Lisa   Barse       UG       5   28    5-8      84  Stanford   87779 \n",
      "\n",
      "Check PG values in Position column:\n",
      "\n",
      "ind1     True\n",
      "ind2     True\n",
      "ind3    False\n",
      "ind4     True\n",
      "ind5    False\n",
      "Name: Position, dtype: bool\n"
     ]
    }
   ],
   "source": [
    "import pandas as pd \n",
    "  \n",
    " \n",
    "df = pd.DataFrame({'Name': ['Geeks', 'Peter', 'James', 'Jack', 'Lisa'], \n",
    "                   'Team': ['Boston', 'Boston', 'Boston', 'Chele', 'Barse'], \n",
    "                   'Position': ['PG', 'PG', 'UG', 'PG', 'UG'], \n",
    "                   'Number': [3, 4, 7, 11, 5], \n",
    "                   'Age': [33, 25, 34, 35, 28], \n",
    "                   'Height': ['6-2', '6-4', '5-9', '6-1', '5-8'], \n",
    "                   'Weight': [89, 79, 113, 78, 84], \n",
    "                   'College': ['MIT', 'MIT', 'MIT', 'Stanford', 'Stanford'], \n",
    "                   'Salary': [99999, 99994, 89999, 78889, 87779]}, \n",
    "                   index =['ind1', 'ind2', 'ind3', 'ind4', 'ind5']) \n",
    "print(df, \"\\n\") \n",
    "  \n",
    "print(\"Check PG values in Position column:\\n\") \n",
    "df1 = df['Position'].str.contains(\"PG\") \n",
    "print(df1) \n"
   ]
  },
  {
   "cell_type": "markdown",
   "metadata": {},
   "source": [
    "# Question 6"
   ]
  },
  {
   "cell_type": "code",
   "execution_count": 23,
   "metadata": {},
   "outputs": [
    {
     "data": {
      "text/html": [
       "<div>\n",
       "<style scoped>\n",
       "    .dataframe tbody tr th:only-of-type {\n",
       "        vertical-align: middle;\n",
       "    }\n",
       "\n",
       "    .dataframe tbody tr th {\n",
       "        vertical-align: top;\n",
       "    }\n",
       "\n",
       "    .dataframe thead th {\n",
       "        text-align: right;\n",
       "    }\n",
       "</style>\n",
       "<table border=\"1\" class=\"dataframe\">\n",
       "  <thead>\n",
       "    <tr style=\"text-align: right;\">\n",
       "      <th></th>\n",
       "      <th>Name</th>\n",
       "      <th>Team</th>\n",
       "      <th>Number</th>\n",
       "      <th>Position</th>\n",
       "      <th>Age</th>\n",
       "      <th>Height</th>\n",
       "      <th>Weight</th>\n",
       "      <th>College</th>\n",
       "      <th>Salary</th>\n",
       "    </tr>\n",
       "  </thead>\n",
       "  <tbody>\n",
       "    <tr>\n",
       "      <th>142</th>\n",
       "      <td>Darren Collison</td>\n",
       "      <td>Sacramento Kings</td>\n",
       "      <td>7.0</td>\n",
       "      <td>PG</td>\n",
       "      <td>28.0</td>\n",
       "      <td>6-0</td>\n",
       "      <td>175.0</td>\n",
       "      <td>UCLA</td>\n",
       "      <td>5013559.0</td>\n",
       "    </tr>\n",
       "    <tr>\n",
       "      <th>264</th>\n",
       "      <td>Jordan Farmar</td>\n",
       "      <td>Memphis Grizzlies</td>\n",
       "      <td>4.0</td>\n",
       "      <td>PG</td>\n",
       "      <td>29.0</td>\n",
       "      <td>6-2</td>\n",
       "      <td>180.0</td>\n",
       "      <td>UCLA</td>\n",
       "      <td>NaN</td>\n",
       "    </tr>\n",
       "    <tr>\n",
       "      <th>290</th>\n",
       "      <td>Jrue Holiday</td>\n",
       "      <td>New Orleans Pelicans</td>\n",
       "      <td>11.0</td>\n",
       "      <td>PG</td>\n",
       "      <td>25.0</td>\n",
       "      <td>6-4</td>\n",
       "      <td>205.0</td>\n",
       "      <td>UCLA</td>\n",
       "      <td>10595507.0</td>\n",
       "    </tr>\n",
       "    <tr>\n",
       "      <th>402</th>\n",
       "      <td>Zach LaVine</td>\n",
       "      <td>Minnesota Timberwolves</td>\n",
       "      <td>8.0</td>\n",
       "      <td>PG</td>\n",
       "      <td>21.0</td>\n",
       "      <td>6-5</td>\n",
       "      <td>189.0</td>\n",
       "      <td>UCLA</td>\n",
       "      <td>2148360.0</td>\n",
       "    </tr>\n",
       "    <tr>\n",
       "      <th>426</th>\n",
       "      <td>Russell Westbrook</td>\n",
       "      <td>Oklahoma City Thunder</td>\n",
       "      <td>0.0</td>\n",
       "      <td>PG</td>\n",
       "      <td>27.0</td>\n",
       "      <td>6-3</td>\n",
       "      <td>200.0</td>\n",
       "      <td>UCLA</td>\n",
       "      <td>16744218.0</td>\n",
       "    </tr>\n",
       "  </tbody>\n",
       "</table>\n",
       "</div>"
      ],
      "text/plain": [
       "                  Name                    Team  Number Position   Age Height  \\\n",
       "142    Darren Collison        Sacramento Kings     7.0       PG  28.0    6-0   \n",
       "264      Jordan Farmar       Memphis Grizzlies     4.0       PG  29.0    6-2   \n",
       "290       Jrue Holiday    New Orleans Pelicans    11.0       PG  25.0    6-4   \n",
       "402        Zach LaVine  Minnesota Timberwolves     8.0       PG  21.0    6-5   \n",
       "426  Russell Westbrook   Oklahoma City Thunder     0.0       PG  27.0    6-3   \n",
       "\n",
       "     Weight College      Salary  \n",
       "142   175.0    UCLA   5013559.0  \n",
       "264   180.0    UCLA         NaN  \n",
       "290   205.0    UCLA  10595507.0  \n",
       "402   189.0    UCLA   2148360.0  \n",
       "426   200.0    UCLA  16744218.0  "
      ]
     },
     "execution_count": 23,
     "metadata": {},
     "output_type": "execute_result"
    }
   ],
   "source": [
    "import pandas as pd  \n",
    "    \n",
    "\n",
    "df = pd.read_csv(\"https://media.geeksforgeeks.org/wp-content/uploads/nba.csv\")  \n",
    "  \n",
    "  \n",
    "df1 = df[df['Position'].str.contains(\"PG\") & df['College'].str.contains('UC')] \n",
    "df1 \n"
   ]
  },
  {
   "cell_type": "code",
   "execution_count": null,
   "metadata": {},
   "outputs": [],
   "source": []
  }
 ],
 "metadata": {
  "kernelspec": {
   "display_name": "Python 3",
   "language": "python",
   "name": "python3"
  },
  "language_info": {
   "codemirror_mode": {
    "name": "ipython",
    "version": 3
   },
   "file_extension": ".py",
   "mimetype": "text/x-python",
   "name": "python",
   "nbconvert_exporter": "python",
   "pygments_lexer": "ipython3",
   "version": "3.7.6"
  }
 },
 "nbformat": 4,
 "nbformat_minor": 4
}
